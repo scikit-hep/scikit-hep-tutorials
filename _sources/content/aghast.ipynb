{
 "cells": [
  {
   "cell_type": "markdown",
   "metadata": {},
   "source": [
    "# Saving and loading Histograms\n",
    "\n",
    "```{warning}\n",
    "The URL for this page may change, the general design for this tutorial series is in flux.\n",
    "```\n",
    "\n",
    "Format conversion between [ROOT](https://root.cern) and [boost-histogram](https://github.com/scikit-hep/boost-histogram) can be performed by Scikit-HEP tools. [Aghast](https://github.com/scikit-hep/aghast) is a histogramming library to provide better communication between histogramming libraries, instead of filling or plotting them. Here, you can see how to convert between ROOT and boost-histogram by Aghast. "
   ]
  },
  {
   "cell_type": "markdown",
   "metadata": {
    "tags": [
     "margin"
    ]
   },
   "source": [
    "**Authors**\n",
    "\n",
    "* [Nino](https://github.com/LovelyBuggies)\n",
    "* [Henry Schreiner](https://github.com/henryiii)"
   ]
  },
  {
   "cell_type": "code",
   "execution_count": null,
   "metadata": {},
   "outputs": [],
   "source": [
    "# Conda-forge ROOT, provided by Scikit-HEP\n",
    "import ROOT\n",
    "\n",
    "# Standard imports\n",
    "import numpy as np\n",
    "import os\n",
    "import matplotlib.pyplot as plt\n",
    "\n",
    "# Scikit-HEP packages\n",
    "import boost_histogram as bh\n",
    "import aghast\n",
    "import uproot"
   ]
  },
  {
   "cell_type": "markdown",
   "metadata": {},
   "source": [
    "```{note}\n",
    "Importing ROOT interferes with Jupyter/IPython, causing tab completion to break and \"X is not defined\" to be printed out ad-nauseam to the terminal. Sorry. Many cases can be handled by uproot, which avoids this dependency and irritaiton.\n",
    "```"
   ]
  },
  {
   "cell_type": "markdown",
   "metadata": {},
   "source": [
    "## boost-histogram to ROOT via ROOT"
   ]
  },
  {
   "cell_type": "markdown",
   "metadata": {},
   "source": [
    "Let's start with a boost-histogram:"
   ]
  },
  {
   "cell_type": "code",
   "execution_count": null,
   "metadata": {},
   "outputs": [],
   "source": [
    "h = bh.Histogram(bh.axis.Regular(15, -3, 3))\n",
    "h.fill(np.random.normal(size=1_000_000))\n",
    "\n",
    "# Quick plot\n",
    "plt.bar(h.axes[0].centers, h, h.axes[0].widths);"
   ]
  },
  {
   "cell_type": "markdown",
   "metadata": {},
   "source": [
    "If you want a ROOT histogram from boost-histogram object, convert the boost-histogram object to an Aghast histogram at first, and then convert the Aghast histogram to ROOT histogram. We currently need to use to/from NumPy to communicate between the libraries (don't worry, a copy is not made)."
   ]
  },
  {
   "cell_type": "code",
   "execution_count": null,
   "metadata": {},
   "outputs": [],
   "source": [
    "ghastly_hist = aghast.from_numpy(h.to_numpy())\n",
    "ghastly_hist"
   ]
  },
  {
   "cell_type": "markdown",
   "metadata": {},
   "source": [
    "Now let's write this with ROOT. Notice that ROOT uses a stateful global interface, so we open a file, we make a new object, then we save the file - the object is created in the open file \"magically\". (Does this sound like a problem for things like threading? Yes, it is. It's going away in ROOT 7 eventually.)"
   ]
  },
  {
   "cell_type": "code",
   "execution_count": null,
   "metadata": {},
   "outputs": [],
   "source": [
    "file = ROOT.TFile(\"demo_root_file.root\", \"RECREATE\")\n",
    "root_hist = aghast.to_root(ghastly_hist, \"root_hist\")\n",
    "file.Write()"
   ]
  },
  {
   "cell_type": "markdown",
   "metadata": {},
   "source": [
    "Now, let's open the file with uproot:"
   ]
  },
  {
   "cell_type": "code",
   "execution_count": null,
   "metadata": {},
   "outputs": [],
   "source": [
    "rf = uproot.open(\"demo_root_file.root\")\n",
    "th1 = rf[\"root_hist\"]\n",
    "th1.show()"
   ]
  },
  {
   "cell_type": "markdown",
   "metadata": {},
   "source": [
    "You can see that these are *similar*, though aghast doesn't handle the overflow bins in the NumPy format yet:"
   ]
  },
  {
   "cell_type": "code",
   "execution_count": null,
   "metadata": {},
   "outputs": [],
   "source": [
    "th1.allnumpy()"
   ]
  },
  {
   "cell_type": "code",
   "execution_count": null,
   "metadata": {},
   "outputs": [],
   "source": [
    "h.to_numpy()"
   ]
  },
  {
   "cell_type": "markdown",
   "metadata": {},
   "source": [
    "## boost-histogram to ROOT via uproot"
   ]
  },
  {
   "cell_type": "markdown",
   "metadata": {},
   "source": [
    "If you want to save and load simple ROOT histograms, [uproot](https://github.com/scikit-hep/uproot) is able to read and write directly in NumPy format:"
   ]
  },
  {
   "cell_type": "code",
   "execution_count": null,
   "metadata": {},
   "outputs": [],
   "source": [
    "root_file = uproot.recreate(\"demo_uproot_file.root\")\n",
    "root_file[\"words\"] = \"See what is in the ROOT File!\"\n",
    "root_file[\"hist\"] = h.to_numpy()"
   ]
  },
  {
   "cell_type": "markdown",
   "metadata": {},
   "source": [
    "```{toggle} Did you notice something?\n",
    "There is no `.close()` or context manager here. Uproot 3 closes the file after every operation. Context managers will be available in Uproot 4.\n",
    "```\n",
    "\n",
    "Let's reopen the file:"
   ]
  },
  {
   "cell_type": "code",
   "execution_count": null,
   "metadata": {},
   "outputs": [],
   "source": [
    "root_file2 = uproot.open(\"demo_uproot_file.root\")\n",
    "print(root_file2[\"words\"])\n",
    "root_file2[\"hist\"].show()"
   ]
  },
  {
   "cell_type": "markdown",
   "metadata": {},
   "source": [
    "## ROOT to boost-histogram\n",
    "\n",
    "Similarly, you can convert a ROOT histogram to boost-histogram histogram. You'll want to avoid the $\\infty$ on either end of the NumPy array when you access the edges, and instead rely on the built-in flow bins."
   ]
  },
  {
   "cell_type": "code",
   "execution_count": null,
   "metadata": {},
   "outputs": [],
   "source": [
    "ghastly_hist = aghast.from_root(root_hist)\n",
    "data, edges = aghast.to_numpy(ghastly_hist)\n",
    "\n",
    "h = bh.Histogram(bh.axis.Variable(edges[1:-1]))\n",
    "h[:] = data\n",
    "plt.bar(h.axes[0].centers, h.view(), width=h.axes[0].widths);"
   ]
  },
  {
   "cell_type": "code",
   "execution_count": null,
   "metadata": {
    "tags": [
     "hide-cell"
    ]
   },
   "outputs": [],
   "source": [
    "%rm demo_uproot_file.root demo_root_file.root"
   ]
  }
 ],
 "metadata": {
  "kernelspec": {
   "display_name": "scikit-hep-tutorials",
   "language": "python",
   "name": "scikit-hep-tutorials"
  },
  "language_info": {
   "codemirror_mode": {
    "name": "ipython",
    "version": 3
   },
   "file_extension": ".py",
   "mimetype": "text/x-python",
   "name": "python",
   "nbconvert_exporter": "python",
   "pygments_lexer": "ipython3",
   "version": "3.8.2"
  }
 },
 "nbformat": 4,
 "nbformat_minor": 4
}
