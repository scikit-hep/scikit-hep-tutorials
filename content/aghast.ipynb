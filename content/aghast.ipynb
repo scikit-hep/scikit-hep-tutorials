{
 "cells": [
  {
   "cell_type": "markdown",
   "metadata": {},
   "source": [
    "# Aghast Example"
   ]
  },
  {
   "cell_type": "code",
   "execution_count": 1,
   "metadata": {},
   "outputs": [
    {
     "name": "stdout",
     "output_type": "stream",
     "text": [
      "Welcome to JupyROOT 6.20/04\n"
     ]
    }
   ],
   "source": [
    "import numpy as np\n",
    "import boost_histogram as bh\n",
    "import ROOT\n",
    "import aghast\n",
    "import uproot\n",
    "import os\n",
    "import matplotlib.pyplot as plt"
   ]
  },
  {
   "cell_type": "markdown",
   "metadata": {},
   "source": [
    "[ROOT](https://root.cern/) is a scientific software toolkit popular in HEP. Format conversion between ROOT and boost-histogram can be performed by Scikit-HEP tools. [Aghast](https://github.com/scikit-hep/aghast) is a histogramming library to provide better communication between histogramming libraries, instead of filling or plotting them. Here, you can see how to convert between ROOT and boost-histogram by Aghast. "
   ]
  },
  {
   "cell_type": "markdown",
   "metadata": {},
   "source": [
    "> ### Note:\n",
    ">\n",
    "> Importing ROOT interferes with Jupyter/IPython, causing tab completion to break and \"X is not defined\" to be printed out ad-nauseam to the terminal. Sorry. Many cases can be handled by uproot, which avoids this dependency and irritaiton."
   ]
  },
  {
   "cell_type": "markdown",
   "metadata": {},
   "source": [
    "## boost-histogram to ROOT via ROOT"
   ]
  },
  {
   "cell_type": "markdown",
   "metadata": {},
   "source": [
    "Let's start with a boost-histogram:"
   ]
  },
  {
   "cell_type": "code",
   "execution_count": 2,
   "metadata": {},
   "outputs": [
    {
     "data": {
      "image/png": "[encoded data removed]",
      "text/plain": [
       "<Figure size 432x288 with 1 Axes>"
      ]
     },
     "metadata": {
      "image/png": {
       "height": 248,
       "width": 394
      },
      "needs_background": "light"
     },
     "output_type": "display_data"
    }
   ],
   "source": [
    "h = bh.Histogram(bh.axis.Regular(15, -3, 3))\n",
    "h.fill(np.random.normal(size=1_000_000))\n",
    "\n",
    "# Quick plot\n",
    "plt.bar(h.axes[0].centers, h, h.axes[0].widths);"
   ]
  },
  {
   "cell_type": "markdown",
   "metadata": {},
   "source": [
    "If you want a ROOT histogram from boost-histogram object, convert the boost-histogram object to an Aghast histogram at first, and then convert the Aghast histogram to ROOT histogram. We currently need to use to/from numpy to communicate between the libraries (don't worry, a copy is not made)."
   ]
  },
  {
   "cell_type": "code",
   "execution_count": 3,
   "metadata": {},
   "outputs": [
    {
     "data": {
      "text/plain": [
       "<Histogram at 0x7ffad032b220>"
      ]
     },
     "execution_count": 3,
     "metadata": {},
     "output_type": "execute_result"
    }
   ],
   "source": [
    "ghastly_hist = aghast.from_numpy(h.to_numpy())\n",
    "ghastly_hist"
   ]
  },
  {
   "cell_type": "markdown",
   "metadata": {},
   "source": [
    "Now let's write this with ROOT. Notice that ROOT uses a stateful global interface, so we open a file, we make a new object, then we save the file - the object is created in the open file \"magically\". (Does this sound like a problem for things like threading? Yes, it is. It's going away in ROOT 7 eventually.)"
   ]
  },
  {
   "cell_type": "code",
   "execution_count": 4,
   "metadata": {},
   "outputs": [
    {
     "data": {
      "text/plain": [
       "344"
      ]
     },
     "execution_count": 4,
     "metadata": {},
     "output_type": "execute_result"
    }
   ],
   "source": [
    "file = ROOT.TFile(\"demo_root_hist.root\", \"RECREATE\")\n",
    "root_hist = aghast.to_root(ghastly_hist, \"root_hist\")\n",
    "file.Write()"
   ]
  },
  {
   "cell_type": "markdown",
   "metadata": {},
   "source": [
    "Now, let's open the file with uproot:"
   ]
  },
  {
   "cell_type": "code",
   "execution_count": 5,
   "metadata": {},
   "outputs": [],
   "source": [
    "rf = uproot.open(\"demo_root_hist.root\")\n",
    "th1 = rf['root_hist']"
   ]
  },
  {
   "cell_type": "markdown",
   "metadata": {},
   "source": [
    "You can see that these are *similar*, though aghast doesn't handle the overflow bins in the numpy format yet:"
   ]
  },
  {
   "cell_type": "code",
   "execution_count": 6,
   "metadata": {},
   "outputs": [
    {
     "data": {
      "text/plain": [
       "(array([     0.,   3178.,   9107.,  22040.,  44873.,  77737., 115768.,\n",
       "        146174., 158248., 146594., 115872.,  77762.,  45480.,  21799.,\n",
       "          9379.,   3300.,      0.]),\n",
       " array([-inf, -3. , -2.6, -2.2, -1.8, -1.4, -1. , -0.6, -0.2,  0.2,  0.6,\n",
       "         1. ,  1.4,  1.8,  2.2,  2.6,  3. ,  inf]))"
      ]
     },
     "execution_count": 6,
     "metadata": {},
     "output_type": "execute_result"
    }
   ],
   "source": [
    "th1.allnumpy()"
   ]
  },
  {
   "cell_type": "code",
   "execution_count": 7,
   "metadata": {},
   "outputs": [
    {
     "data": {
      "text/plain": [
       "(array([  3178.,   9107.,  22040.,  44873.,  77737., 115768., 146174.,\n",
       "        158248., 146594., 115872.,  77762.,  45480.,  21799.,   9379.,\n",
       "          3300.]),\n",
       " array([-3. , -2.6, -2.2, -1.8, -1.4, -1. , -0.6, -0.2,  0.2,  0.6,  1. ,\n",
       "         1.4,  1.8,  2.2,  2.6,  3. ]))"
      ]
     },
     "execution_count": 7,
     "metadata": {},
     "output_type": "execute_result"
    }
   ],
   "source": [
    "h.to_numpy()"
   ]
  },
  {
   "cell_type": "markdown",
   "metadata": {},
   "source": [
    "## boost-histogram to ROOT via uproot"
   ]
  },
  {
   "cell_type": "markdown",
   "metadata": {},
   "source": [
    "If you want to save and load simple ROOT histograms, [uproot](https://github.com/scikit-hep/uproot) is able to read and write direcly in Numpy format:"
   ]
  },
  {
   "cell_type": "code",
   "execution_count": 9,
   "metadata": {},
   "outputs": [],
   "source": [
    "root_file = uproot.recreate(\"demo_uproot_file.root\")\n",
    "root_file['words'] = 'See What\\'s in the ROOT File!'\n",
    "root_file['hist'] = h.to_numpy()"
   ]
  },
  {
   "cell_type": "markdown",
   "metadata": {},
   "source": [
    "Did you notice something? There is no `.close()` or context manager here. Uproot 3 closes the file after every operation. Context managers will be available in Uproot 4.\n",
    "\n",
    "Let's reopen the file:"
   ]
  },
  {
   "cell_type": "code",
   "execution_count": 10,
   "metadata": {},
   "outputs": [
    {
     "name": "stdout",
     "output_type": "stream",
     "text": [
      "See What's in the ROOT File!\n",
      "                        0                                             1.6616e+05\n",
      "                        +------------------------------------------------------+\n",
      "[-inf, -3)   0          |                                                      |\n",
      "[-3, -2.6)   3178       |*                                                     |\n",
      "[-2.6, -2.2) 9107       |***                                                   |\n",
      "[-2.2, -1.8) 22040      |*******                                               |\n",
      "[-1.8, -1.4) 44873      |***************                                       |\n",
      "[-1.4, -1)   77737      |*************************                             |\n",
      "[-1, -0.6)   1.1577e+05 |**************************************                |\n",
      "[-0.6, -0.2) 1.4617e+05 |************************************************      |\n",
      "[-0.2, 0.2)  1.5825e+05 |***************************************************   |\n",
      "[0.2, 0.6)   1.4659e+05 |************************************************      |\n",
      "[0.6, 1)     1.1587e+05 |**************************************                |\n",
      "[1, 1.4)     77762      |*************************                             |\n",
      "[1.4, 1.8)   45480      |***************                                       |\n",
      "[1.8, 2.2)   21799      |*******                                               |\n",
      "[2.2, 2.6)   9379       |***                                                   |\n",
      "[2.6, 3)     3300       |*                                                     |\n",
      "[3, inf]     0          |                                                      |\n",
      "                        +------------------------------------------------------+\n"
     ]
    }
   ],
   "source": [
    "root_file2 = uproot.open(\"demo_uproot_file.root\")\n",
    "print(root_file2['words'])\n",
    "root_file2['hist'].show()"
   ]
  },
  {
   "cell_type": "markdown",
   "metadata": {},
   "source": [
    "## ROOT to boost-histogram\n",
    "\n",
    "Similarly, you can convert a ROOT histogram to boost-histogram histogram. *Note that you cannot get access to the the centers of Aghast axes edges, so we need to calculate it manually.* This should be better in future versions."
   ]
  },
  {
   "cell_type": "code",
   "execution_count": 11,
   "metadata": {},
   "outputs": [
    {
     "data": {
      "text/plain": [
       "<BarContainer object of 30 artists>"
      ]
     },
     "execution_count": 11,
     "metadata": {},
     "output_type": "execute_result"
    },
    {
     "data": {
      "image/png": "[encoded data removed]",
      "text/plain": [
       "<Figure size 432x288 with 1 Axes>"
      ]
     },
     "metadata": {
      "image/png": {
       "height": 248,
       "width": 394
      },
      "needs_background": "light"
     },
     "output_type": "display_data"
    }
   ],
   "source": [
    "ghastly_hist = aghast.from_root(root_hist)\n",
    "w, data = aghast.to_numpy(ghastly_hist)\n",
    "\n",
    "h = bh.Histogram(bh.axis.Regular(30, -3, 3))\n",
    "centers = [(data[idx] + data[idx+1]) / 2 for idx in range(len(data) - 1)]\n",
    "h.fill(centers, weight=w)\n",
    "plt.bar(h.axes[0].centers, h.view(), width=h.axes[0].widths);"
   ]
  }
 ],
 "metadata": {
  "kernelspec": {
   "display_name": "scikit-hep-tutorials",
   "language": "python",
   "name": "scikit-hep-tutorials"
  },
  "language_info": {
   "codemirror_mode": {
    "name": "ipython",
    "version": 3
   },
   "file_extension": ".py",
   "mimetype": "text/x-python",
   "name": "python",
   "nbconvert_exporter": "python",
   "pygments_lexer": "ipython3",
   "version": "3.8.2"
  }
 },
 "nbformat": 4,
 "nbformat_minor": 4
}
