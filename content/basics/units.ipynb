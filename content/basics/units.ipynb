{
 "cells": [
  {
   "cell_type": "markdown",
   "metadata": {},
   "source": [
    "# Playing with the HEP system of units\n",
    "\n",
    "**Or, an intro to the `hepunits` package while performing some time-of-flight studies**.\n",
    "\n",
    "```{warning}\n",
    "The URL for this page may change, the general design for this tutorial series is in flux.\n",
    "```\n",
    "\n",
    "Scikit-HEP packages used:\n",
    "- [`hepunits`](https://github.com/scikit-hep/hepunits)\n",
    "- [`Particle`](https://github.com/scikit-hep/particle)"
   ]
  },
  {
   "cell_type": "markdown",
   "metadata": {
    "tags": [
     "margin"
    ]
   },
   "source": [
    "**Authors**\n",
    "\n",
    "* [Eduardo Rodrigues](https://github.com/eduardo-rodrigues/)"
   ]
  },
  {
   "cell_type": "code",
   "execution_count": null,
   "metadata": {},
   "outputs": [],
   "source": [
    "import numpy as np\n",
    "import matplotlib.pyplot as plt"
   ]
  },
  {
   "cell_type": "markdown",
   "metadata": {},
   "source": [
    "## hepunits - The HEP system of units\n",
    "\n",
    "The package ``hepunits`` collects the most commonly used units and constants in the\n",
    "HEP System of Units, which differs from the international system of units (aka SI units) by scaling factors\n",
    "for what are the basic units.\n",
    "The HEP system of units is based on the following:\n",
    "\n",
    "| Quantity            | Name               | Unit|\n",
    "| -------------------:| ------------------:| ---:|\n",
    "|  Length             |  millimeter        | mm  |\n",
    "|  Time               |  nanosecond        | ns  |\n",
    "|  Energy             |  Mega electron Volt| MeV |\n",
    "|  Positron charge    |  eplus             |     |\n",
    "|  Temperature        |  kelvin            | K   |\n",
    "|  Amount of substance|  mole              | mol |\n",
    "|  Luminous intensity |  candela           | cd  |\n",
    "| Plane angle         |  radian            | rad |\n",
    "|  Solid angle        |  steradian         | sr  |\n",
    "\n",
    "Note: no need to make use of sophisticated packages (e.g. as in AstroPy) since we basically never need to change systems of units (we never use ergs as energy, for example ;-))."
   ]
  },
  {
   "cell_type": "markdown",
   "metadata": {},
   "source": [
    "### **Basic usage**\n",
    "\n",
    "**Basic usage is straightforward**, though it may be confusing at first.\n",
    "Remember, all variables are written wrt to the units:"
   ]
  },
  {
   "cell_type": "code",
   "execution_count": null,
   "metadata": {
    "scrolled": true
   },
   "outputs": [],
   "source": [
    "from hepunits import GeV, MeV, cd, eplus, kelvin, mm, mol, ns, rad, sr\n",
    "\n",
    "mm == ns == MeV == eplus == kelvin == mol == cd == rad == sr == 1"
   ]
  },
  {
   "cell_type": "code",
   "execution_count": null,
   "metadata": {},
   "outputs": [],
   "source": [
    "GeV == 1000 * MeV"
   ]
  },
  {
   "cell_type": "markdown",
   "metadata": {},
   "source": [
    "```{note}\n",
    "1. No error checking is implemented, since units are not objects, rather simple numbers.\n",
    "Expressions such as `1*ns + 1*mm` produce no error.\n",
    "2. Units help improving the readability of code and making formula explicit (although correctness must be still manually checked).\n",
    "```"
   ]
  },
  {
   "cell_type": "markdown",
   "metadata": {},
   "source": [
    "Add two quantities with different length units:"
   ]
  },
  {
   "cell_type": "code",
   "execution_count": null,
   "metadata": {},
   "outputs": [],
   "source": [
    "from hepunits import units as u\n",
    "\n",
    "1 * u.meter + 5 * u.cm"
   ]
  },
  {
   "cell_type": "markdown",
   "metadata": {},
   "source": [
    "The result is in HEP units, so mm. Indeed, for example `u.meter == 1000 == 1000 * u.mm`. \n",
    "\n",
    "Rather obtain the result in meters:"
   ]
  },
  {
   "cell_type": "code",
   "execution_count": null,
   "metadata": {},
   "outputs": [],
   "source": [
    "(1 * u.meter + 5 * u.cm) / u.meter"
   ]
  },
  {
   "cell_type": "markdown",
   "metadata": {},
   "source": [
    "Do you need to play a bit more to get a proper feeling? This next (non-academic) exercise should help you ..."
   ]
  },
  {
   "cell_type": "markdown",
   "metadata": {},
   "source": [
    "### **Quick time-of-flight study**\n",
    "\n",
    "Let's try to play with units in a meaningful way, in a kind of exercise that physicists encounter. Imagine you are investigating time-of-flight (ToF) detectors for particle identification. The time it takes a particle of velocity $\\beta = v/c= pc/E$ to travel a distance $L$ is given by\n",
    "\n",
    "$$\\mathrm{ToF} = \\frac{L}{c \\beta}$$\n",
    "\n",
    "It results that the mass $m$ of the particle can be determined from\n",
    "\n",
    "$$m = \\frac{p}{c}\\sqrt{\\frac{c^2 \\mathrm{ToF}^2}{L^2}-1}$$\n",
    "\n",
    "provided the path length $L$ and the momentum $p$ can be measured, say, by a tracking system."
   ]
  },
  {
   "cell_type": "markdown",
   "metadata": {},
   "source": [
    "What are typical ToF differences say for (charged) kaons and pions?\n",
    "It is practical to perform the calculation as\n",
    "\n",
    "$$\\Delta \\mathrm{ToF} = \\frac{L}{c}(\\frac{1}{\\beta_1} - \\frac{1}{\\beta_2})\\,,$$\n",
    "\n",
    "with $\\frac{1}{\\beta} = \\sqrt{1+m^2c^2/p^2}$."
   ]
  },
  {
   "cell_type": "code",
   "execution_count": null,
   "metadata": {},
   "outputs": [],
   "source": [
    "from hepunits import GeV, c_light, meter, ns, ps\n",
    "\n",
    "\n",
    "def ToF(m: float, p: float, L:float) -> float:\n",
    "    \"\"\"Time-of-Flight = particle path length L / (c * β)\"\"\"\n",
    "    one_over_β = np.sqrt(\n",
    "        1 + m * m / (p * p)\n",
    "    )  # no c factors here because m and p given without them, hence c's cancel out ;-)\n",
    "    return L * one_over_β / c_light"
   ]
  },
  {
   "cell_type": "markdown",
   "metadata": {},
   "source": [
    "For convenience, get hold of data for the proton, $K^+$ and $\\pi^+$ taken from the PDG using the [`Particle` package](https://github.com/scikit-hep/particle):"
   ]
  },
  {
   "cell_type": "code",
   "execution_count": null,
   "metadata": {},
   "outputs": [],
   "source": [
    "from particle.literals import K_plus, pi_plus, proton  # particle name literals"
   ]
  },
  {
   "cell_type": "markdown",
   "metadata": {},
   "source": [
    "Calculate the difference in ToF between 10 GeV kaons and pions travelling over 10 meters:"
   ]
  },
  {
   "cell_type": "code",
   "execution_count": null,
   "metadata": {},
   "outputs": [],
   "source": [
    "delta = (\n",
    "    ToF(K_plus.mass, 10 * GeV, 10 * meter) - ToF(pi_plus.mass, 10 * GeV, 10 * meter)\n",
    ") / ps\n",
    "\n",
    "print(f\"At 10 GeV, Delta-TOF(K-pi) over 10 meters = {delta:.4} ps\")"
   ]
  },
  {
   "cell_type": "markdown",
   "metadata": {},
   "source": [
    "Let's get a bit fancier:\n",
    "- Compare protons, kaons and pions.\n",
    "- Look at the ToF difference versus momentum."
   ]
  },
  {
   "cell_type": "code",
   "execution_count": null,
   "metadata": {},
   "outputs": [],
   "source": [
    "p = np.arange(0.5, 5.1, 0.05) * GeV\n",
    "\n",
    "delta1 = (ToF(K_plus.mass, p, 1.0 * meter) - ToF(pi_plus.mass, p, 1.0 * meter)) / ps\n",
    "delta2 = (ToF(proton.mass, p, 1.0 * meter) - ToF(K_plus.mass, p, 1.0 * meter)) / ps\n",
    "delta3 = (ToF(proton.mass, p, 1.0 * meter) - ToF(pi_plus.mass, p, 1.0 * meter)) / ps\n",
    "\n",
    "fig, ax = plt.subplots()\n",
    "ax.plot(p / GeV, delta1, label=\"K-$\\pi$\")\n",
    "ax.plot(p / GeV, delta2, label=\"p-K\")\n",
    "ax.plot(p / GeV, delta3, label=\"p-$\\pi$\")\n",
    "\n",
    "ax.set(\n",
    "    xlabel=\"p [GeV]\",\n",
    "    ylabel=\"$\\Delta$ ToF [ps]\",\n",
    "    title=\"Time-of-flight difference for a 1 meter path\",\n",
    ")\n",
    "ax.grid()\n",
    "\n",
    "plt.legend()\n",
    "plt.ylim(bottom=0, top=500)\n",
    "plt.show()"
   ]
  },
  {
   "cell_type": "markdown",
   "metadata": {},
   "source": [
    "Taking now an example that could be relevant to LHCb conditions - detector timing resolution requirement is getting tough!:"
   ]
  },
  {
   "cell_type": "code",
   "execution_count": null,
   "metadata": {},
   "outputs": [],
   "source": [
    "p = np.arange(5.0, 10.1, 0.1) * GeV\n",
    "delta = (ToF(K_plus.mass, p, 10 * meter) - ToF(pi_plus.mass, p, 10 * meter)) / ps\n",
    "\n",
    "fig, ax = plt.subplots()\n",
    "ax.plot(p / GeV, delta)\n",
    "\n",
    "ax.set(\n",
    "    xlabel=\"p [GeV]\",\n",
    "    ylabel=\"$\\Delta$ ToF [ps]\",\n",
    "    title=\"Time-of-flight difference for a 10 meter path\",\n",
    ")\n",
    "ax.grid()\n",
    "\n",
    "plt.show()"
   ]
  },
  {
   "cell_type": "markdown",
   "metadata": {},
   "source": [
    "For short flight distances protons, kaons and pions become indistinguishable, as expected:"
   ]
  },
  {
   "cell_type": "code",
   "execution_count": null,
   "metadata": {},
   "outputs": [],
   "source": [
    "p = np.arange(0.5, 5.1, 0.05) * GeV\n",
    "s1 = ToF(K_plus.mass, p, 1.38 * meter) / ToF(pi_plus.mass, p, 1.38 * meter)\n",
    "s3 = ToF(proton.mass, p, 1.38 * meter) / ToF(pi_plus.mass, p, 1.38 * meter)\n",
    "\n",
    "fig, ax = plt.subplots()\n",
    "ax.plot(p / GeV, s1, label=\"K-$\\pi$\")\n",
    "ax.plot(p / GeV, s3, label=\"p-$\\pi$\")\n",
    "\n",
    "ax.set(\n",
    "    xlabel=\"p [GeV]\",\n",
    "    ylabel=\"ToF/ToF($\\pi$)\",\n",
    "    title=\"Relative Time-of-flight for a 1 meter flight\",\n",
    ")\n",
    "ax.grid()\n",
    "\n",
    "plt.ylim(bottom=1, top=2.2)\n",
    "plt.legend()\n",
    "plt.show()"
   ]
  }
 ],
 "metadata": {
  "kernelspec": {
   "display_name": "scikit-hep-tutorials",
   "language": "python",
   "name": "scikit-hep-tutorials"
  },
  "language_info": {
   "codemirror_mode": {
    "name": "ipython",
    "version": 3
   },
   "file_extension": ".py",
   "mimetype": "text/x-python",
   "name": "python",
   "nbconvert_exporter": "python",
   "pygments_lexer": "ipython3",
   "version": "3.8.2"
  }
 },
 "nbformat": 4,
 "nbformat_minor": 4
}
